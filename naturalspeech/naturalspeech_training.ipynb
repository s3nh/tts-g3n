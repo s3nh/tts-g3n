{
 "cells": [
  {
   "cell_type": "markdown",
   "metadata": {},
   "source": [
    "# Create chunked dataset\n",
    "\n",
    "- LJSpeech \n",
    "\n",
    "- id \n",
    "- transcription\n",
    "- normalized transcription"
   ]
  },
  {
   "cell_type": "code",
   "execution_count": null,
   "metadata": {},
   "outputs": [],
   "source": []
  },
  {
   "cell_type": "code",
   "execution_count": 4,
   "metadata": {
    "execution": {
     "iopub.execute_input": "2023-02-16T21:33:46.196090Z",
     "iopub.status.busy": "2023-02-16T21:33:46.195295Z",
     "iopub.status.idle": "2023-02-16T21:33:46.200645Z",
     "shell.execute_reply": "2023-02-16T21:33:46.199842Z",
     "shell.execute_reply.started": "2023-02-16T21:33:46.196055Z"
    },
    "tags": []
   },
   "outputs": [],
   "source": [
    "import pandas as pd \n",
    "import pathlib \n",
    "from pathlib import Path\n",
    "from typing import List, Dict, Union\n",
    "DATA_PATH: str = './data/'"
   ]
  },
  {
   "cell_type": "code",
   "execution_count": 5,
   "metadata": {
    "execution": {
     "iopub.execute_input": "2023-02-16T21:33:46.922570Z",
     "iopub.status.busy": "2023-02-16T21:33:46.921961Z",
     "iopub.status.idle": "2023-02-16T21:33:46.930258Z",
     "shell.execute_reply": "2023-02-16T21:33:46.929619Z",
     "shell.execute_reply.started": "2023-02-16T21:33:46.922546Z"
    },
    "tags": []
   },
   "outputs": [],
   "source": [
    "MP3_FILES: List =  list(pathlib.Path(DATA_PATH).rglob('*.mp3'))\n",
    "VTT_FILES: List = list(pathlib.Path(DATA_PATH).rglob('*.vtt'))"
   ]
  },
  {
   "cell_type": "code",
   "execution_count": 6,
   "metadata": {
    "execution": {
     "iopub.execute_input": "2023-02-16T21:33:49.049554Z",
     "iopub.status.busy": "2023-02-16T21:33:49.049295Z",
     "iopub.status.idle": "2023-02-16T21:33:49.060431Z",
     "shell.execute_reply": "2023-02-16T21:33:49.059839Z",
     "shell.execute_reply.started": "2023-02-16T21:33:49.049536Z"
    }
   },
   "outputs": [],
   "source": [
    "with open(VTT_FILES[0], 'r') as outfile:\n",
    "    data = outfile.readlines()"
   ]
  },
  {
   "cell_type": "code",
   "execution_count": 7,
   "metadata": {
    "execution": {
     "iopub.execute_input": "2023-02-16T21:33:49.806989Z",
     "iopub.status.busy": "2023-02-16T21:33:49.806366Z",
     "iopub.status.idle": "2023-02-16T21:33:49.810246Z",
     "shell.execute_reply": "2023-02-16T21:33:49.809577Z",
     "shell.execute_reply.started": "2023-02-16T21:33:49.806964Z"
    }
   },
   "outputs": [],
   "source": [
    "times = data[2::3]\n",
    "speeches = data[3::3]"
   ]
  },
  {
   "cell_type": "code",
   "execution_count": 8,
   "metadata": {
    "execution": {
     "iopub.execute_input": "2023-02-16T21:33:53.722684Z",
     "iopub.status.busy": "2023-02-16T21:33:53.722291Z",
     "iopub.status.idle": "2023-02-16T21:33:53.726797Z",
     "shell.execute_reply": "2023-02-16T21:33:53.726168Z",
     "shell.execute_reply.started": "2023-02-16T21:33:53.722658Z"
    }
   },
   "outputs": [],
   "source": [
    "ids = list(range(len(speeches)))"
   ]
  },
  {
   "cell_type": "code",
   "execution_count": 31,
   "metadata": {
    "execution": {
     "iopub.execute_input": "2023-02-16T21:51:20.244944Z",
     "iopub.status.busy": "2023-02-16T21:51:20.244355Z",
     "iopub.status.idle": "2023-02-16T21:51:20.268179Z",
     "shell.execute_reply": "2023-02-16T21:51:20.267311Z",
     "shell.execute_reply.started": "2023-02-16T21:51:20.244918Z"
    }
   },
   "outputs": [],
   "source": [
    "speeches_frame = pd.DataFrame([ids, speeches]).T\n",
    "speeches_frame.columns = ['ID', 'transcription']"
   ]
  },
  {
   "cell_type": "code",
   "execution_count": 33,
   "metadata": {
    "execution": {
     "iopub.execute_input": "2023-02-16T21:51:30.041398Z",
     "iopub.status.busy": "2023-02-16T21:51:30.040717Z",
     "iopub.status.idle": "2023-02-16T21:51:30.063111Z",
     "shell.execute_reply": "2023-02-16T21:51:30.062476Z",
     "shell.execute_reply.started": "2023-02-16T21:51:30.041369Z"
    }
   },
   "outputs": [],
   "source": [
    "times_frame  = pd.DataFrame([ids, times]).T\n",
    "times_frame.columns = ['ID', 'times']"
   ]
  },
  {
   "cell_type": "code",
   "execution_count": 35,
   "metadata": {
    "execution": {
     "iopub.execute_input": "2023-02-16T21:51:36.091163Z",
     "iopub.status.busy": "2023-02-16T21:51:36.090887Z",
     "iopub.status.idle": "2023-02-16T21:51:36.100653Z",
     "shell.execute_reply": "2023-02-16T21:51:36.099619Z",
     "shell.execute_reply.started": "2023-02-16T21:51:36.091143Z"
    }
   },
   "outputs": [],
   "source": [
    "import re\n",
    "_from = [el[0] for el in  times_frame.times.apply(lambda x: re.sub('\\n', '', x).split('-->'))]\n",
    "_to = [el[1] for el in  times_frame.times.apply(lambda x: re.sub('\\n', '', x).split('-->'))]\n",
    "times_frame['from'] = _from \n",
    "times_frame['to'] = _to"
   ]
  },
  {
   "cell_type": "code",
   "execution_count": 36,
   "metadata": {
    "execution": {
     "iopub.execute_input": "2023-02-16T21:51:40.464294Z",
     "iopub.status.busy": "2023-02-16T21:51:40.463991Z",
     "iopub.status.idle": "2023-02-16T21:51:40.469124Z",
     "shell.execute_reply": "2023-02-16T21:51:40.468230Z",
     "shell.execute_reply.started": "2023-02-16T21:51:40.464273Z"
    }
   },
   "outputs": [],
   "source": [
    "_from =   ['00:' + el.strip() if len(el) == 10 else el for el in _from]\n",
    "_to  = ['00:' + el.strip() if len(el) == 10 else el for el in _to]"
   ]
  },
  {
   "cell_type": "code",
   "execution_count": 37,
   "metadata": {
    "execution": {
     "iopub.execute_input": "2023-02-16T21:51:42.244546Z",
     "iopub.status.busy": "2023-02-16T21:51:42.244287Z",
     "iopub.status.idle": "2023-02-16T21:51:42.276617Z",
     "shell.execute_reply": "2023-02-16T21:51:42.275749Z",
     "shell.execute_reply.started": "2023-02-16T21:51:42.244527Z"
    }
   },
   "outputs": [],
   "source": [
    "from datetime import datetime\n",
    "_to_duration = [(datetime.strptime(el.strip(),   '%H:%M:%S.%f')  - datetime.strptime(_from[0].strip(), '%H:%M:%S.%f')).total_seconds() for el in _to]\n",
    "_from_duration = [(datetime.strptime(el.strip(),   '%H:%M:%S.%f')  - datetime.strptime(_from[0].strip(), '%H:%M:%S.%f')).total_seconds() for el in _from ]"
   ]
  },
  {
   "cell_type": "code",
   "execution_count": 38,
   "metadata": {
    "execution": {
     "iopub.execute_input": "2023-02-16T21:51:44.946205Z",
     "iopub.status.busy": "2023-02-16T21:51:44.945935Z",
     "iopub.status.idle": "2023-02-16T21:51:44.951813Z",
     "shell.execute_reply": "2023-02-16T21:51:44.950750Z",
     "shell.execute_reply.started": "2023-02-16T21:51:44.946186Z"
    }
   },
   "outputs": [
    {
     "data": {
      "text/plain": [
       "Index(['ID', 'transcription'], dtype='object')"
      ]
     },
     "execution_count": 38,
     "metadata": {},
     "output_type": "execute_result"
    }
   ],
   "source": [
    "speeches_frame.columns"
   ]
  },
  {
   "cell_type": "code",
   "execution_count": 40,
   "metadata": {
    "execution": {
     "iopub.execute_input": "2023-02-16T21:52:04.729130Z",
     "iopub.status.busy": "2023-02-16T21:52:04.728806Z",
     "iopub.status.idle": "2023-02-16T21:52:04.733760Z",
     "shell.execute_reply": "2023-02-16T21:52:04.733155Z",
     "shell.execute_reply.started": "2023-02-16T21:52:04.729110Z"
    }
   },
   "outputs": [],
   "source": [
    "speeches_frame.ID = speeches_frame.ID.apply(lambda x: f'./data/wavs/become_backprop_ninja_{x}.wav')"
   ]
  },
  {
   "cell_type": "code",
   "execution_count": 42,
   "metadata": {
    "execution": {
     "iopub.execute_input": "2023-02-16T21:52:15.690827Z",
     "iopub.status.busy": "2023-02-16T21:52:15.690159Z",
     "iopub.status.idle": "2023-02-16T21:52:15.701070Z",
     "shell.execute_reply": "2023-02-16T21:52:15.700129Z",
     "shell.execute_reply.started": "2023-02-16T21:52:15.690802Z"
    }
   },
   "outputs": [],
   "source": [
    "speeches_frame.to_csv('./data/become_backprop.csv', index=False)"
   ]
  },
  {
   "cell_type": "code",
   "execution_count": 48,
   "metadata": {
    "execution": {
     "iopub.execute_input": "2023-02-16T21:53:58.286076Z",
     "iopub.status.busy": "2023-02-16T21:53:58.285672Z",
     "iopub.status.idle": "2023-02-16T21:53:58.289903Z",
     "shell.execute_reply": "2023-02-16T21:53:58.288978Z",
     "shell.execute_reply.started": "2023-02-16T21:53:58.286053Z"
    }
   },
   "outputs": [],
   "source": [
    "#data = speeches_frame.ID + '|' + speeches_frame.transcription"
   ]
  },
  {
   "cell_type": "code",
   "execution_count": 47,
   "metadata": {
    "execution": {
     "iopub.execute_input": "2023-02-16T21:53:48.563775Z",
     "iopub.status.busy": "2023-02-16T21:53:48.562867Z",
     "iopub.status.idle": "2023-02-16T21:53:48.572599Z",
     "shell.execute_reply": "2023-02-16T21:53:48.571516Z",
     "shell.execute_reply.started": "2023-02-16T21:53:48.563751Z"
    }
   },
   "outputs": [],
   "source": [
    "data.to_csv(r'./data/become_backprop.txt', header=None, index=None, sep='\\t', mode='a')"
   ]
  },
  {
   "cell_type": "markdown",
   "metadata": {},
   "source": [
    "# Read that fucking mp3 file "
   ]
  },
  {
   "cell_type": "code",
   "execution_count": 92,
   "metadata": {
    "execution": {
     "iopub.execute_input": "2023-02-15T22:14:57.745249Z",
     "iopub.status.busy": "2023-02-15T22:14:57.744598Z",
     "iopub.status.idle": "2023-02-15T22:15:01.490411Z",
     "shell.execute_reply": "2023-02-15T22:15:01.489685Z",
     "shell.execute_reply.started": "2023-02-15T22:14:57.745223Z"
    }
   },
   "outputs": [],
   "source": [
    "import librosa\n",
    "wav, sr = librosa.load('data/becoming_a_backprop_ninja.wav')"
   ]
  },
  {
   "cell_type": "code",
   "execution_count": 93,
   "metadata": {
    "execution": {
     "iopub.execute_input": "2023-02-15T22:15:01.491589Z",
     "iopub.status.busy": "2023-02-15T22:15:01.491418Z",
     "iopub.status.idle": "2023-02-15T22:15:01.494798Z",
     "shell.execute_reply": "2023-02-15T22:15:01.493982Z",
     "shell.execute_reply.started": "2023-02-15T22:15:01.491574Z"
    }
   },
   "outputs": [],
   "source": [
    "import soundfile as sf"
   ]
  },
  {
   "cell_type": "code",
   "execution_count": 95,
   "metadata": {
    "execution": {
     "iopub.execute_input": "2023-02-15T22:16:38.485642Z",
     "iopub.status.busy": "2023-02-15T22:16:38.485017Z",
     "iopub.status.idle": "2023-02-15T22:16:48.974098Z",
     "shell.execute_reply": "2023-02-15T22:16:48.973227Z",
     "shell.execute_reply.started": "2023-02-15T22:16:38.485618Z"
    }
   },
   "outputs": [],
   "source": [
    "sr = 22050\n",
    "for el in range(len(_to_duration)):\n",
    "    tmp_ = wav[int(_from_duration[el] * sr): int(_to_duration[el] * sr)]\n",
    "    sf.write(f'./data/become_backprop_ninja_{el}.wav', tmp_, sr)"
   ]
  },
  {
   "cell_type": "code",
   "execution_count": 34,
   "metadata": {
    "execution": {
     "iopub.execute_input": "2023-02-15T21:58:31.736450Z",
     "iopub.status.busy": "2023-02-15T21:58:31.735781Z",
     "iopub.status.idle": "2023-02-15T21:58:31.741603Z",
     "shell.execute_reply": "2023-02-15T21:58:31.740878Z",
     "shell.execute_reply.started": "2023-02-15T21:58:31.736417Z"
    }
   },
   "outputs": [
    {
     "data": {
      "text/plain": [
       "array([0.       , 0.       , 0.       , ..., 0.0859375, 0.0703125,\n",
       "       0.0546875], dtype=float32)"
      ]
     },
     "execution_count": 34,
     "metadata": {},
     "output_type": "execute_result"
    }
   ],
   "source": []
  },
  {
   "cell_type": "markdown",
   "metadata": {
    "id": "OKBM9jO5emtp"
   },
   "source": [
    "## Set up naturalspeech"
   ]
  },
  {
   "cell_type": "code",
   "execution_count": null,
   "metadata": {
    "id": "MnnIzNDiO1MH"
   },
   "outputs": [],
   "source": [
    "%cd /content/\n",
    "!git clone https://github.com/heatz123/naturalspeech\n",
    "%cd /content/naturalspeech\n",
    "!pip install -r requirements.txt\n",
    "%cd /content/\n",
    "!wget https://data.keithito.com/data/speech/LJSpeech-1.1.tar.bz2 "
   ]
  },
  {
   "cell_type": "markdown",
   "metadata": {
    "id": "OWKnNm3xjf7g"
   },
   "source": [
    "## Create symbolic link to dataset"
   ]
  },
  {
   "cell_type": "code",
   "execution_count": null,
   "metadata": {
    "id": "oXDKCx1FPnzI"
   },
   "outputs": [],
   "source": [
    "%cd /content/\n",
    "!tar -xf LJSpeech-1.1.tar.bz2\n",
    "%cd /content/naturalspeech\n",
    "!ln -s /content/LJSpeech-1.1/wavs/ DUMMY1"
   ]
  },
  {
   "cell_type": "markdown",
   "metadata": {
    "id": "Uf63QzpajptC"
   },
   "source": [
    "## Uncompress durations labels"
   ]
  },
  {
   "cell_type": "code",
   "execution_count": null,
   "metadata": {
    "id": "jt1t3bhObSji"
   },
   "outputs": [],
   "source": [
    "!mv /content/naturalspeech/durations/durations.tar.bz2 /content/naturalspeech/\n",
    "!rm -r /content/naturalspeech/durations\n",
    "%cd  /content/naturalspeech/\n",
    "!tar -xf durations.tar.bz2"
   ]
  },
  {
   "cell_type": "markdown",
   "metadata": {
    "id": "X3dYAXA8j81B"
   },
   "source": [
    "## Warmup Training"
   ]
  },
  {
   "cell_type": "code",
   "execution_count": null,
   "metadata": {
    "id": "x49LdKJ_ciuX"
   },
   "outputs": [],
   "source": [
    "%cd /content/naturalspeech\n",
    "!python3 train.py -c configs/ljs.json -m exp1 --warmup"
   ]
  },
  {
   "cell_type": "markdown",
   "metadata": {
    "id": "qE4YV8C19y3d"
   },
   "source": [
    "## Training"
   ]
  },
  {
   "cell_type": "code",
   "execution_count": null,
   "metadata": {
    "id": "t9JH9TZD9zzx"
   },
   "outputs": [],
   "source": [
    "!python3 attach_memory_bank.py -c configs/ljs.json --weights_path logs/ext/G_500.pth"
   ]
  },
  {
   "cell_type": "code",
   "execution_count": null,
   "metadata": {
    "id": "W8bqOU-q98cJ"
   },
   "outputs": [],
   "source": [
    "!python3 train.py -c configs/ljs.json -m exp1"
   ]
  }
 ],
 "metadata": {
  "accelerator": "GPU",
  "colab": {
   "provenance": []
  },
  "gpuClass": "standard",
  "kernelspec": {
   "display_name": "Python 3 (ipykernel)",
   "language": "python",
   "name": "python3"
  },
  "language_info": {
   "codemirror_mode": {
    "name": "ipython",
    "version": 3
   },
   "file_extension": ".py",
   "mimetype": "text/x-python",
   "name": "python",
   "nbconvert_exporter": "python",
   "pygments_lexer": "ipython3",
   "version": "3.9.13"
  }
 },
 "nbformat": 4,
 "nbformat_minor": 4
}
